{
 "cells": [
  {
   "cell_type": "code",
   "execution_count": 1,
   "id": "696bba2a",
   "metadata": {},
   "outputs": [],
   "source": [
    "import dask.dataframe as dd\n",
    "from dask.distributed import Client"
   ]
  },
  {
   "cell_type": "code",
   "execution_count": 2,
   "id": "794fe571",
   "metadata": {},
   "outputs": [],
   "source": [
    "client = Client(\"tcp://172.31.30.142:8786\")"
   ]
  },
  {
   "cell_type": "code",
   "execution_count": 3,
   "id": "6aa7de06",
   "metadata": {},
   "outputs": [],
   "source": [
    "ddf = dd.read_csv(\"user_reviews_trimmed.csv\")"
   ]
  },
  {
   "cell_type": "code",
   "execution_count": 4,
   "id": "ef12c2c9",
   "metadata": {},
   "outputs": [
    {
     "data": {
      "text/plain": [
       "6000000"
      ]
     },
     "execution_count": 4,
     "metadata": {},
     "output_type": "execute_result"
    }
   ],
   "source": [
    "len(ddf)"
   ]
  },
  {
   "cell_type": "code",
   "execution_count": 5,
   "id": "c5fd40fb",
   "metadata": {},
   "outputs": [
    {
     "data": {
      "text/html": [
       "<div>\n",
       "<style scoped>\n",
       "    .dataframe tbody tr th:only-of-type {\n",
       "        vertical-align: middle;\n",
       "    }\n",
       "\n",
       "    .dataframe tbody tr th {\n",
       "        vertical-align: top;\n",
       "    }\n",
       "\n",
       "    .dataframe thead th {\n",
       "        text-align: right;\n",
       "    }\n",
       "</style>\n",
       "<table border=\"1\" class=\"dataframe\">\n",
       "  <thead>\n",
       "    <tr style=\"text-align: right;\">\n",
       "      <th></th>\n",
       "      <th>reviewerID</th>\n",
       "      <th>asin</th>\n",
       "      <th>reviewerName</th>\n",
       "      <th>helpful</th>\n",
       "      <th>reviewText</th>\n",
       "      <th>overall</th>\n",
       "      <th>summary</th>\n",
       "      <th>unixReviewTime</th>\n",
       "      <th>reviewTime</th>\n",
       "    </tr>\n",
       "  </thead>\n",
       "  <tbody>\n",
       "    <tr>\n",
       "      <th>0</th>\n",
       "      <td>A2T0RJ91B0PQ03</td>\n",
       "      <td>B0016CRVLW</td>\n",
       "      <td>Gerald DeWitt</td>\n",
       "      <td>[0, 0]</td>\n",
       "      <td>Beware!  This is NOT the original single versi...</td>\n",
       "      <td>1.0</td>\n",
       "      <td>Poor Quality Alternate Take</td>\n",
       "      <td>1.400630e+09</td>\n",
       "      <td>05 21, 2014</td>\n",
       "    </tr>\n",
       "    <tr>\n",
       "      <th>1</th>\n",
       "      <td>A3TYW0XA8HSGWB</td>\n",
       "      <td>B00EKR5S0Q</td>\n",
       "      <td>Linda E. Larson</td>\n",
       "      <td>[0, 0]</td>\n",
       "      <td>This is my new most favorite k-cup coffee. I c...</td>\n",
       "      <td>5.0</td>\n",
       "      <td>Vanilla Starbucks K-cups</td>\n",
       "      <td>1.398557e+09</td>\n",
       "      <td>04 27, 2014</td>\n",
       "    </tr>\n",
       "    <tr>\n",
       "      <th>2</th>\n",
       "      <td>A2CME0TQU2IVVB</td>\n",
       "      <td>B001AUPJVO</td>\n",
       "      <td>L5Momma</td>\n",
       "      <td>[1, 1]</td>\n",
       "      <td>This headset is great!  It worked in our 2007 ...</td>\n",
       "      <td>5.0</td>\n",
       "      <td>Awesome!</td>\n",
       "      <td>1.355875e+09</td>\n",
       "      <td>12 19, 2012</td>\n",
       "    </tr>\n",
       "    <tr>\n",
       "      <th>3</th>\n",
       "      <td>A2E5IDLX7R388S</td>\n",
       "      <td>B000055Y57</td>\n",
       "      <td>Jeff Andersen</td>\n",
       "      <td>[0, 0]</td>\n",
       "      <td>Scofield is one of my favorite musicians and i...</td>\n",
       "      <td>5.0</td>\n",
       "      <td>Straight ahead Jazz with the Scofield twist</td>\n",
       "      <td>1.402358e+09</td>\n",
       "      <td>06 10, 2014</td>\n",
       "    </tr>\n",
       "    <tr>\n",
       "      <th>4</th>\n",
       "      <td>A3CIEMYUGV6ZMR</td>\n",
       "      <td>0545265355</td>\n",
       "      <td>Adroit</td>\n",
       "      <td>[0, 0]</td>\n",
       "      <td>Wonderful book! I cried, well teared up at a f...</td>\n",
       "      <td>5.0</td>\n",
       "      <td>Greatest Book Ever!!!</td>\n",
       "      <td>1.334102e+09</td>\n",
       "      <td>04 11, 2012</td>\n",
       "    </tr>\n",
       "  </tbody>\n",
       "</table>\n",
       "</div>"
      ],
      "text/plain": [
       "       reviewerID        asin     reviewerName helpful  \\\n",
       "0  A2T0RJ91B0PQ03  B0016CRVLW    Gerald DeWitt  [0, 0]   \n",
       "1  A3TYW0XA8HSGWB  B00EKR5S0Q  Linda E. Larson  [0, 0]   \n",
       "2  A2CME0TQU2IVVB  B001AUPJVO          L5Momma  [1, 1]   \n",
       "3  A2E5IDLX7R388S  B000055Y57    Jeff Andersen  [0, 0]   \n",
       "4  A3CIEMYUGV6ZMR  0545265355           Adroit  [0, 0]   \n",
       "\n",
       "                                          reviewText  overall  \\\n",
       "0  Beware!  This is NOT the original single versi...      1.0   \n",
       "1  This is my new most favorite k-cup coffee. I c...      5.0   \n",
       "2  This headset is great!  It worked in our 2007 ...      5.0   \n",
       "3  Scofield is one of my favorite musicians and i...      5.0   \n",
       "4  Wonderful book! I cried, well teared up at a f...      5.0   \n",
       "\n",
       "                                       summary  unixReviewTime   reviewTime  \n",
       "0                  Poor Quality Alternate Take    1.400630e+09  05 21, 2014  \n",
       "1                     Vanilla Starbucks K-cups    1.398557e+09  04 27, 2014  \n",
       "2                                     Awesome!    1.355875e+09  12 19, 2012  \n",
       "3  Straight ahead Jazz with the Scofield twist    1.402358e+09  06 10, 2014  \n",
       "4                        Greatest Book Ever!!!    1.334102e+09  04 11, 2012  "
      ]
     },
     "execution_count": 5,
     "metadata": {},
     "output_type": "execute_result"
    }
   ],
   "source": [
    "ddf.head()"
   ]
  },
  {
   "cell_type": "code",
   "execution_count": 7,
   "id": "69367360",
   "metadata": {},
   "outputs": [
    {
     "name": "stdout",
     "output_type": "stream",
     "text": [
      "CPU times: user 424 ms, sys: 197 ms, total: 620 ms\n",
      "Wall time: 46.3 s\n"
     ]
    }
   ],
   "source": [
    "%%time\n",
    "\n",
    "ddf1 = ddf.groupby('reviewerID').agg({'overall': ['count','mean'], 'unixReviewTime':'min'}).compute()"
   ]
  },
  {
   "cell_type": "code",
   "execution_count": 18,
   "id": "bae74140",
   "metadata": {},
   "outputs": [],
   "source": [
    "# def tuple_sum(x):\n",
    "#     return x.apply(lambda t: pd.Series({'sum1': t[0], 'sum2': t[1]})).sum()\n",
    "\n",
    "# custom_tuple_sum = dd.Aggregation(\n",
    "#     name='custom_tuple_sum',\n",
    "#     chunk=lambda s: s.apply(tuple_sum),\n",
    "#     agg=lambda s0: s0.sum()\n",
    "# )"
   ]
  },
  {
   "cell_type": "code",
   "execution_count": 9,
   "id": "8da7db40",
   "metadata": {},
   "outputs": [],
   "source": [
    "# # %%time\n",
    "\n",
    "# sum_first = dd.Aggregation('sum_first', lambda x: x.apply(lambda t: t.tolist()[0]).sum(), lambda x: x.sum())\n",
    "# sum_second = dd.Aggregation('sum_second', lambda x: x.apply(lambda t: t.tolist()[1]).sum(), lambda x: x.sum())\n",
    "\n",
    "# sum_custom = dd.Aggregation('sum_second', lambda x: x.apply(lambda t: t.tolist()[1]).sum(), lambda x: x.sum())\n",
    "\n",
    "# ddf2 = ddf.groupby('reviewerID')['helpful'].appl"
   ]
  },
  {
   "cell_type": "code",
   "execution_count": 8,
   "id": "42b8b7e2",
   "metadata": {},
   "outputs": [],
   "source": [
    "# def sum_first_and_second(group):\n",
    "#     first_sum = group['values'].apply(lambda x: x[0]).sum()\n",
    "#     second_sum = group['values'].apply(lambda x: x[1]).sum()\n",
    "#     return pd.Series({'first_sum': first_sum, 'second_sum': second_sum})\n",
    "\n",
    "\n",
    "# result = df.groupby('id').apply(sum_first_and_second, meta={'first_sum': 'f8', 'second_sum': 'f8'})"
   ]
  },
  {
   "cell_type": "code",
   "execution_count": null,
   "id": "51a718b5",
   "metadata": {},
   "outputs": [],
   "source": []
  }
 ],
 "metadata": {
  "kernelspec": {
   "display_name": "Python 3 (ipykernel)",
   "language": "python",
   "name": "python3"
  },
  "language_info": {
   "codemirror_mode": {
    "name": "ipython",
    "version": 3
   },
   "file_extension": ".py",
   "mimetype": "text/x-python",
   "name": "python",
   "nbconvert_exporter": "python",
   "pygments_lexer": "ipython3",
   "version": "3.7.16"
  }
 },
 "nbformat": 4,
 "nbformat_minor": 5
}
